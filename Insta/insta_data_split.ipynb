{
 "metadata": {
  "language_info": {
   "codemirror_mode": {
    "name": "ipython",
    "version": 3
   },
   "file_extension": ".py",
   "mimetype": "text/x-python",
   "name": "python",
   "nbconvert_exporter": "python",
   "pygments_lexer": "ipython3",
   "version": "3.7.6-final"
  },
  "orig_nbformat": 2,
  "kernelspec": {
   "name": "Python 3.7.6 64-bit ('base': conda)",
   "display_name": "Python 3.7.6 64-bit ('base': conda)",
   "metadata": {
    "interpreter": {
     "hash": "4582d230e25b8217e666f0f9ff9e4572247d830a78f80b8cc5849d556084ed3c"
    }
   }
  }
 },
 "nbformat": 4,
 "nbformat_minor": 2,
 "cells": [
  {
   "cell_type": "code",
   "execution_count": 1,
   "metadata": {},
   "outputs": [],
   "source": [
    "import pandas as pd"
   ]
  },
  {
   "cell_type": "code",
   "execution_count": 2,
   "metadata": {},
   "outputs": [],
   "source": [
    "temp = pd.read_csv(r'C:\\Users\\svsta\\OneDrive - 숭실대학교 - Soongsil University\\workspace\\DATAS\\INSTA\\DATA_FOR_MODELING.txt')"
   ]
  },
  {
   "cell_type": "code",
   "execution_count": 3,
   "metadata": {},
   "outputs": [
    {
     "output_type": "execute_result",
     "data": {
      "text/plain": "           insta_id                                               text  target\n0        3079813342            필라테스 운동 다시 시작 바렐 스트레칭 머리 질 끈 묶고 운동하는 여자       0\n1        3079813342  울산 여행 휴유증 여수 낭만포차 돌 문어상회 하모샤브샤브 게장 갓 볶음밥 여수달구나...       0\n2        3079813342  울산 여행 휴유증 슈가브리움 풀빌라 아빠와 딸 최고의 파트너 찰떡 콤비 집에 와서도...       0\n3        3079813342  울산 여수 슈가브리움 풀빌라 바베큐 파티 여수당 여수당 바게트 버거 맛있었어 줄 서...       0\n4        3079813342  여수여행 여름 발 리스윙 행복한 여행 남편 최고 결혼 발리가고 싶다 우리 세 가족 ...       0\n...             ...                                                ...     ...\n4484495  1430629023  스위티 창동 스위티엠제이 마산창동 마산창원 진해케익 마산 주문케익 케익토퍼 마산카페...       4\n4484496  1430629023  수프리마켓 창동예술촌 골목 스위티 엄제이 마산창동 토요일 천연 발효종 치아바타 탕종...       4\n4484497  1430629023  수프리마켓 창동예술촌 골목 마산 핸드메이드 꼼지락 공방 나무늘 보 작업실 달달 구리...       4\n4484498  1430629023  무화과 여름 케익 스위티 엄제이 스위티 마산 카페 디저트 카페 마산 홈베이킹 마산창...       4\n4484499  1430629023  콥샐러드 오픈샌드위치 마산 마카롱 마산홈베이킹 콥 샐러드 스위티 창동맛집 창동예술촌...       4\n\n[4484500 rows x 3 columns]",
      "text/html": "<div>\n<style scoped>\n    .dataframe tbody tr th:only-of-type {\n        vertical-align: middle;\n    }\n\n    .dataframe tbody tr th {\n        vertical-align: top;\n    }\n\n    .dataframe thead th {\n        text-align: right;\n    }\n</style>\n<table border=\"1\" class=\"dataframe\">\n  <thead>\n    <tr style=\"text-align: right;\">\n      <th></th>\n      <th>insta_id</th>\n      <th>text</th>\n      <th>target</th>\n    </tr>\n  </thead>\n  <tbody>\n    <tr>\n      <th>0</th>\n      <td>3079813342</td>\n      <td>필라테스 운동 다시 시작 바렐 스트레칭 머리 질 끈 묶고 운동하는 여자</td>\n      <td>0</td>\n    </tr>\n    <tr>\n      <th>1</th>\n      <td>3079813342</td>\n      <td>울산 여행 휴유증 여수 낭만포차 돌 문어상회 하모샤브샤브 게장 갓 볶음밥 여수달구나...</td>\n      <td>0</td>\n    </tr>\n    <tr>\n      <th>2</th>\n      <td>3079813342</td>\n      <td>울산 여행 휴유증 슈가브리움 풀빌라 아빠와 딸 최고의 파트너 찰떡 콤비 집에 와서도...</td>\n      <td>0</td>\n    </tr>\n    <tr>\n      <th>3</th>\n      <td>3079813342</td>\n      <td>울산 여수 슈가브리움 풀빌라 바베큐 파티 여수당 여수당 바게트 버거 맛있었어 줄 서...</td>\n      <td>0</td>\n    </tr>\n    <tr>\n      <th>4</th>\n      <td>3079813342</td>\n      <td>여수여행 여름 발 리스윙 행복한 여행 남편 최고 결혼 발리가고 싶다 우리 세 가족 ...</td>\n      <td>0</td>\n    </tr>\n    <tr>\n      <th>...</th>\n      <td>...</td>\n      <td>...</td>\n      <td>...</td>\n    </tr>\n    <tr>\n      <th>4484495</th>\n      <td>1430629023</td>\n      <td>스위티 창동 스위티엠제이 마산창동 마산창원 진해케익 마산 주문케익 케익토퍼 마산카페...</td>\n      <td>4</td>\n    </tr>\n    <tr>\n      <th>4484496</th>\n      <td>1430629023</td>\n      <td>수프리마켓 창동예술촌 골목 스위티 엄제이 마산창동 토요일 천연 발효종 치아바타 탕종...</td>\n      <td>4</td>\n    </tr>\n    <tr>\n      <th>4484497</th>\n      <td>1430629023</td>\n      <td>수프리마켓 창동예술촌 골목 마산 핸드메이드 꼼지락 공방 나무늘 보 작업실 달달 구리...</td>\n      <td>4</td>\n    </tr>\n    <tr>\n      <th>4484498</th>\n      <td>1430629023</td>\n      <td>무화과 여름 케익 스위티 엄제이 스위티 마산 카페 디저트 카페 마산 홈베이킹 마산창...</td>\n      <td>4</td>\n    </tr>\n    <tr>\n      <th>4484499</th>\n      <td>1430629023</td>\n      <td>콥샐러드 오픈샌드위치 마산 마카롱 마산홈베이킹 콥 샐러드 스위티 창동맛집 창동예술촌...</td>\n      <td>4</td>\n    </tr>\n  </tbody>\n</table>\n<p>4484500 rows × 3 columns</p>\n</div>"
     },
     "metadata": {},
     "execution_count": 3
    }
   ],
   "source": [
    "temp"
   ]
  },
  {
   "cell_type": "code",
   "execution_count": 8,
   "metadata": {},
   "outputs": [],
   "source": [
    "a = pd.DataFrame()\n",
    "for i in range(8):\n",
    "    a = pd.concat([a, temp[temp['target'] == i].sample(frac=1)[:100000]])"
   ]
  },
  {
   "cell_type": "code",
   "execution_count": 11,
   "metadata": {},
   "outputs": [],
   "source": [
    "import pickle\n",
    "with open(r'C:\\Users\\svsta\\sns_project\\Insta\\Target_Data\\testing\\y_list.bin', 'wb') as f :\n",
    "    pickle.dump(list(a['target']), f)"
   ]
  },
  {
   "cell_type": "code",
   "execution_count": 12,
   "metadata": {},
   "outputs": [],
   "source": [
    "a.reset_index()[['insta_id','text']].to_csv('test_file.txt')"
   ]
  },
  {
   "cell_type": "code",
   "execution_count": null,
   "metadata": {},
   "outputs": [],
   "source": []
  }
 ]
}
{
 "metadata": {
  "language_info": {
   "codemirror_mode": {
    "name": "ipython",
    "version": 3
   },
   "file_extension": ".py",
   "mimetype": "text/x-python",
   "name": "python",
   "nbconvert_exporter": "python",
   "pygments_lexer": "ipython3",
   "version": "3.7.6-final"
  },
  "orig_nbformat": 2,
  "kernelspec": {
   "name": "python_defaultSpec_1598580753704",
   "display_name": "Python 3.7.6 64-bit ('base': conda)"
  }
 },
 "nbformat": 4,
 "nbformat_minor": 2,
 "cells": [
  {
   "cell_type": "code",
   "execution_count": 1,
   "metadata": {},
   "outputs": [],
   "source": [
    "import pandas as pd\n",
    "import numpy as np\n",
    "from matplotlib import pyplot as plt\n",
    "import seaborn as sns"
   ]
  },
  {
   "cell_type": "code",
   "execution_count": 2,
   "metadata": {},
   "outputs": [],
   "source": [
    "from sklearn.tree import DecisionTreeClassifier\n",
    "from sklearn.ensemble import RandomForestClassifier\n",
    "from sklearn.model_selection import train_test_split\n",
    "from sklearn.metrics import accuracy_score"
   ]
  },
  {
   "cell_type": "code",
   "execution_count": 3,
   "metadata": {},
   "outputs": [],
   "source": [
    "X = np.random.random(size=(2000, 500))\n",
    "y = np.random.randint(8, size = (2000,1))"
   ]
  },
  {
   "cell_type": "code",
   "execution_count": 4,
   "metadata": {
    "tags": []
   },
   "outputs": [
    {
     "output_type": "stream",
     "name": "stdout",
     "text": "train_accuracy: 1.000\ntest_accuracy: 0.112\n"
    }
   ],
   "source": [
    "X_train, X_test, y_train, y_test = train_test_split(X,y, test_size = 0.3, shuffle = True)\n",
    "tree = DecisionTreeClassifier(random_state=0)\n",
    "tree.fit(X_train, y_train)\n",
    "print(\"train_accuracy: {:.3f}\".format(tree.score(X_train, y_train)))\n",
    "print(\"test_accuracy: {:.3f}\".format(tree.score(X_test, y_test)))"
   ]
  },
  {
   "cell_type": "code",
   "execution_count": 5,
   "metadata": {
    "tags": []
   },
   "outputs": [
    {
     "output_type": "stream",
     "name": "stdout",
     "text": "train_accuracy: 0.202\ntest_accuracy: 0.110\n"
    }
   ],
   "source": [
    "# tree의 깊이 제한 max_depth = n\n",
    "\n",
    "tree = DecisionTreeClassifier(max_depth=4, random_state=0)\n",
    "tree.fit(X_train, y_train)\n",
    "\n",
    "print(\"train_accuracy: {:.3f}\".format(tree.score(X_train, y_train)))\n",
    "print(\"test_accuracy: {:.3f}\".format(tree.score(X_test, y_test)))"
   ]
  },
  {
   "cell_type": "code",
   "execution_count": 6,
   "metadata": {},
   "outputs": [
    {
     "output_type": "execute_result",
     "data": {
      "text/plain": "RandomForestClassifier(bootstrap=True, ccp_alpha=0.0, class_weight=None,\n                       criterion='gini', max_depth=None, max_features='auto',\n                       max_leaf_nodes=None, max_samples=None,\n                       min_impurity_decrease=0.0, min_impurity_split=None,\n                       min_samples_leaf=1, min_samples_split=2,\n                       min_weight_fraction_leaf=0.0, n_estimators=50,\n                       n_jobs=None, oob_score=False, random_state=42, verbose=0,\n                       warm_start=False)"
     },
     "metadata": {},
     "execution_count": 6
    }
   ],
   "source": [
    "X_train, X_test, y_train, y_test = train_test_split(X,y, test_size = 0.3, shuffle = True)\n",
    "rf = RandomForestClassifier(n_estimators = 50, random_state = 42)\n",
    "rf.fit(X_train, y_train)"
   ]
  },
  {
   "cell_type": "code",
   "execution_count": 7,
   "metadata": {
    "tags": []
   },
   "outputs": [
    {
     "output_type": "stream",
     "name": "stdout",
     "text": "train_accuracy: 0.176\ntest_accuracy: 0.172\n"
    }
   ],
   "source": [
    "print(\"train_accuracy: {:.3f}\".format(tree.score(X_train, y_train)))\n",
    "print(\"test_accuracy: {:.3f}\".format(tree.score(X_test, y_test)))"
   ]
  },
  {
   "cell_type": "code",
   "execution_count": 8,
   "metadata": {},
   "outputs": [],
   "source": [
    "rf.param_grid = {\n",
    "    'n_estimators' : [100,200],\n",
    "    'max_depth' : [6, 8, 10, 12],\n",
    "    'min_samples_leaf' : [3, 5, 7, 10],\n",
    "    'min_smaples_split' : [2, 3, 5, 10]\n",
    "}"
   ]
  },
  {
   "cell_type": "code",
   "execution_count": 9,
   "metadata": {},
   "outputs": [],
   "source": [
    "# 파라미터\n",
    "# n_estimator = 결정 트리 개수, defalt는 10, 많을수록 좋은 성능이 나올 수 있지만 무조건은 아님\n",
    "# max_features = 사용할 특성의 수, 데이터의 feature를 참조할 비율, 개수를 뜻함, 각 트리가 얼마나 무작위가 될 지                     결정, 적게 설정하면 과대적합을 줄여줌, 분류모델이면 max_features = sqrt(n_features)\n",
    "# n_job = 사용할 코어 수 지정 가능(-1로 지정하면 모든 코어 사용), 모델 만들 때 시간이 오래 걸리는 경우\n",
    "# random_state = 지정한 값에 따라 같은 결과를 만들어야하면 고정해야함\n",
    "#                n_estimator로 만드는 트리 개수를 많이 지정하면 random_state값의 변화에 따른 변동이 적음\n",
    "# max_depth = 트리의 깊이\n",
    "# max_simples_leaf = leaf node가 되기 위한 최소한의 샘플 데이터 수\n",
    "# max_samples_split = node를 분할하기 위한 최소한의 데이터 수"
   ]
  },
  {
   "cell_type": "code",
   "execution_count": null,
   "metadata": {},
   "outputs": [],
   "source": []
  }
 ]
}